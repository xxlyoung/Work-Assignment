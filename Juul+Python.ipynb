{
 "cells": [
  {
   "cell_type": "code",
   "execution_count": 1,
   "metadata": {},
   "outputs": [],
   "source": [
    "import pandas as pd\n",
    "import numpy as np\n",
    "%matplotlib inline\n",
    "import matplotlib.pyplot as plt\n",
    "import statsmodels.api as sm"
   ]
  },
  {
   "cell_type": "code",
   "execution_count": 3,
   "metadata": {},
   "outputs": [
    {
     "data": {
      "text/html": [
       "<div>\n",
       "<style scoped>\n",
       "    .dataframe tbody tr th:only-of-type {\n",
       "        vertical-align: middle;\n",
       "    }\n",
       "\n",
       "    .dataframe tbody tr th {\n",
       "        vertical-align: top;\n",
       "    }\n",
       "\n",
       "    .dataframe thead th {\n",
       "        text-align: right;\n",
       "    }\n",
       "</style>\n",
       "<table border=\"1\" class=\"dataframe\">\n",
       "  <thead>\n",
       "    <tr style=\"text-align: right;\">\n",
       "      <th></th>\n",
       "      <th>TV Spend</th>\n",
       "      <th>Display Ads</th>\n",
       "      <th>Direct Load</th>\n",
       "      <th>Email</th>\n",
       "      <th>Organic Search</th>\n",
       "      <th>Branded Paid Search</th>\n",
       "    </tr>\n",
       "    <tr>\n",
       "      <th>Date</th>\n",
       "      <th></th>\n",
       "      <th></th>\n",
       "      <th></th>\n",
       "      <th></th>\n",
       "      <th></th>\n",
       "      <th></th>\n",
       "    </tr>\n",
       "  </thead>\n",
       "  <tbody>\n",
       "    <tr>\n",
       "      <th>2015-12-12</th>\n",
       "      <td>111.8</td>\n",
       "      <td>20</td>\n",
       "      <td>108</td>\n",
       "      <td>17</td>\n",
       "      <td>70</td>\n",
       "      <td>79</td>\n",
       "    </tr>\n",
       "    <tr>\n",
       "      <th>2015-12-13</th>\n",
       "      <td>142.4</td>\n",
       "      <td>28</td>\n",
       "      <td>116</td>\n",
       "      <td>11</td>\n",
       "      <td>75</td>\n",
       "      <td>83</td>\n",
       "    </tr>\n",
       "    <tr>\n",
       "      <th>2015-12-14</th>\n",
       "      <td>120.6</td>\n",
       "      <td>25</td>\n",
       "      <td>111</td>\n",
       "      <td>10</td>\n",
       "      <td>71</td>\n",
       "      <td>80</td>\n",
       "    </tr>\n",
       "    <tr>\n",
       "      <th>2015-12-15</th>\n",
       "      <td>92.3</td>\n",
       "      <td>24</td>\n",
       "      <td>105</td>\n",
       "      <td>20</td>\n",
       "      <td>66</td>\n",
       "      <td>76</td>\n",
       "    </tr>\n",
       "    <tr>\n",
       "      <th>2015-12-16</th>\n",
       "      <td>110.2</td>\n",
       "      <td>22</td>\n",
       "      <td>108</td>\n",
       "      <td>9</td>\n",
       "      <td>70</td>\n",
       "      <td>78</td>\n",
       "    </tr>\n",
       "  </tbody>\n",
       "</table>\n",
       "</div>"
      ],
      "text/plain": [
       "            TV Spend  Display Ads  Direct Load  Email  Organic Search  \\\n",
       "Date                                                                    \n",
       "2015-12-12     111.8           20          108     17              70   \n",
       "2015-12-13     142.4           28          116     11              75   \n",
       "2015-12-14     120.6           25          111     10              71   \n",
       "2015-12-15      92.3           24          105     20              66   \n",
       "2015-12-16     110.2           22          108      9              70   \n",
       "\n",
       "            Branded Paid Search  \n",
       "Date                             \n",
       "2015-12-12                   79  \n",
       "2015-12-13                   83  \n",
       "2015-12-14                   80  \n",
       "2015-12-15                   76  \n",
       "2015-12-16                   78  "
      ]
     },
     "execution_count": 3,
     "metadata": {},
     "output_type": "execute_result"
    }
   ],
   "source": [
    "juul = pd.read_csv(\"/Users/dennishou/Desktop/Juul/Juul TV spend.csv\")\n",
    "juul.rename(columns={' TV spend ($) ':'TV Spend'},inplace=True)\n",
    "juul['Date'] = pd.to_datetime(juul['Date']) # fix the date time if not formatting correctly\n",
    "juul.set_index('Date', inplace=True)\n",
    "juul.head()"
   ]
  },
  {
   "cell_type": "code",
   "execution_count": null,
   "metadata": {},
   "outputs": [],
   "source": [
    "juul.resample('M').apply(['sum']).plot(figsize=(15,8))"
   ]
  },
  {
   "cell_type": "code",
   "execution_count": 19,
   "metadata": {},
   "outputs": [
    {
     "name": "stdout",
     "output_type": "stream",
     "text": [
      "                            OLS Regression Results                            \n",
      "==============================================================================\n",
      "Dep. Variable:                  Email   R-squared:                       0.002\n",
      "Model:                            OLS   Adj. R-squared:                 -0.000\n",
      "Method:                 Least Squares   F-statistic:                    0.9977\n",
      "Date:                Wed, 20 Feb 2019   Prob (F-statistic):              0.318\n",
      "Time:                        09:51:32   Log-Likelihood:                -2010.8\n",
      "No. Observations:                 484   AIC:                             4026.\n",
      "Df Residuals:                     482   BIC:                             4034.\n",
      "Df Model:                           1                                         \n",
      "Covariance Type:            nonrobust                                         \n",
      "==============================================================================\n",
      "                 coef    std err          t      P>|t|      [0.025      0.975]\n",
      "------------------------------------------------------------------------------\n",
      "const         17.3082      2.340      7.398      0.000      12.711      21.905\n",
      "TV Spend       0.0144      0.014      0.999      0.318      -0.014       0.043\n",
      "==============================================================================\n",
      "Omnibus:                      403.372   Durbin-Watson:                   1.950\n",
      "Prob(Omnibus):                  0.000   Jarque-Bera (JB):             7374.900\n",
      "Skew:                           3.634   Prob(JB):                         0.00\n",
      "Kurtosis:                      20.688   Cond. No.                         541.\n",
      "==============================================================================\n",
      "\n",
      "Warnings:\n",
      "[1] Standard Errors assume that the covariance matrix of the errors is correctly specified.\n"
     ]
    }
   ],
   "source": [
    "X = juul[[\"TV Spend\"]]\n",
    "X = sm.add_constant(X)\n",
    "y = juul[\"Email\"]\n",
    "\n",
    "# Note the swap of X and y\n",
    "model = sm.OLS(y, X)\n",
    "results = model.fit()\n",
    "# Statsmodels gives R-like statistical output\n",
    "print(results.summary())"
   ]
  }
 ],
 "metadata": {
  "kernelspec": {
   "display_name": "Python 3",
   "language": "python",
   "name": "python3"
  },
  "language_info": {
   "codemirror_mode": {
    "name": "ipython",
    "version": 3
   },
   "file_extension": ".py",
   "mimetype": "text/x-python",
   "name": "python",
   "nbconvert_exporter": "python",
   "pygments_lexer": "ipython3",
   "version": "3.6.5"
  }
 },
 "nbformat": 4,
 "nbformat_minor": 2
}
