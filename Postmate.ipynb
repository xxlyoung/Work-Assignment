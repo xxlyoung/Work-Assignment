{
 "cells": [
  {
   "cell_type": "code",
   "execution_count": 1,
   "metadata": {
    "collapsed": true
   },
   "outputs": [],
   "source": [
    "import pandas as pd\n",
    "import numpy as np\n",
    "%matplotlib inline\n",
    "import matplotlib.pyplot as plt\n",
    "import statsmodels.api as sm"
   ]
  },
  {
   "cell_type": "code",
   "execution_count": 55,
   "metadata": {},
   "outputs": [
    {
     "name": "stdout",
     "output_type": "stream",
     "text": [
      "<class 'pandas.core.frame.DataFrame'>\n",
      "RangeIndex: 5983 entries, 0 to 5982\n",
      "Data columns (total 20 columns):\n",
      "delivery_id                            5983 non-null int64\n",
      "customer_id                            5983 non-null int64\n",
      "jumpman_id                             5983 non-null int64\n",
      "vehicle_type                           5983 non-null object\n",
      "pickup_place                           5983 non-null object\n",
      "place_category                         5100 non-null object\n",
      "item_name                              4753 non-null object\n",
      "item_quantity                          4753 non-null float64\n",
      "item_category_name                     4753 non-null object\n",
      "how_long_it_took_to_order              3038 non-null datetime64[ns]\n",
      "pickup_lat                             5983 non-null float64\n",
      "pickup_lon                             5983 non-null float64\n",
      "dropoff_lat                            5983 non-null float64\n",
      "dropoff_lon                            5983 non-null float64\n",
      "when_the_delivery_started              5983 non-null datetime64[ns]\n",
      "when_the_Jumpman_arrived_at_pickup     5433 non-null datetime64[ns]\n",
      "when_the_Jumpman_left_pickup           5433 non-null datetime64[ns]\n",
      "when_the_Jumpman_arrived_at_dropoff    5983 non-null datetime64[ns]\n",
      "pick up time                           5433 non-null float64\n",
      "delivery time                          5983 non-null int64\n",
      "dtypes: datetime64[ns](5), float64(6), int64(4), object(5)\n",
      "memory usage: 934.9+ KB\n"
     ]
    }
   ],
   "source": [
    "postmate.info()"
   ]
  },
  {
   "cell_type": "code",
   "execution_count": 84,
   "metadata": {},
   "outputs": [],
   "source": [
    "postmate = pd.read_csv(\"/Users/dennishou/Desktop/analyze_me.csv\")\n",
    "\n",
    "postmate['when_the_delivery_started'] = pd.to_datetime(postmate['when_the_delivery_started']) # fix the date time if not formatting correctly\n",
    "postmate['when_the_Jumpman_arrived_at_dropoff'] = pd.to_datetime(postmate['when_the_Jumpman_arrived_at_dropoff'])\n",
    "postmate['when_the_Jumpman_arrived_at_pickup'] = pd.to_datetime(postmate['when_the_Jumpman_arrived_at_pickup'])\n",
    "postmate['when_the_Jumpman_left_pickup'] = pd.to_datetime(postmate['when_the_Jumpman_left_pickup'])\n",
    "postmate['how_long_it_took_to_order'] = pd.to_datetime(postmate['how_long_it_took_to_order'])\n",
    "\n",
    "postmate['pick_up_time']=(postmate.when_the_Jumpman_left_pickup - postmate.when_the_Jumpman_arrived_at_pickup).astype('timedelta64[m]')\n",
    "postmate['delivery_time'] = (postmate.when_the_Jumpman_arrived_at_dropoff - postmate.when_the_delivery_started).astype('timedelta64[m]')\n",
    "\n",
    "postmate.replace([np.inf, -np.inf], np.nan).dropna(how=\"all\")\n",
    "postmate = postmate[np.isfinite(postmate['pick_up_time'])]\n",
    "postmate = postmate[np.isfinite(postmate['item_quantity'])]\n"
   ]
  },
  {
   "cell_type": "code",
   "execution_count": 82,
   "metadata": {},
   "outputs": [
    {
     "name": "stdout",
     "output_type": "stream",
     "text": [
      "                            OLS Regression Results                            \n",
      "==============================================================================\n",
      "Dep. Variable:          delivery_time   R-squared:                       0.338\n",
      "Model:                            OLS   Adj. R-squared:                  0.338\n",
      "Method:                 Least Squares   F-statistic:                     2776.\n",
      "Date:                Sun, 03 Mar 2019   Prob (F-statistic):               0.00\n",
      "Time:                        20:39:34   Log-Likelihood:                -22730.\n",
      "No. Observations:                5433   AIC:                         4.546e+04\n",
      "Df Residuals:                    5431   BIC:                         4.548e+04\n",
      "Df Model:                           1                                         \n",
      "Covariance Type:            nonrobust                                         \n",
      "================================================================================\n",
      "                   coef    std err          t      P>|t|      [0.025      0.975]\n",
      "--------------------------------------------------------------------------------\n",
      "const           28.5271      0.384     74.329      0.000      27.775      29.279\n",
      "pick_up_time     0.9118      0.017     52.690      0.000       0.878       0.946\n",
      "==============================================================================\n",
      "Omnibus:                     1885.882   Durbin-Watson:                   1.998\n",
      "Prob(Omnibus):                  0.000   Jarque-Bera (JB):             9029.061\n",
      "Skew:                           1.613   Prob(JB):                         0.00\n",
      "Kurtosis:                       8.429   Cond. No.                         39.6\n",
      "==============================================================================\n",
      "\n",
      "Warnings:\n",
      "[1] Standard Errors assume that the covariance matrix of the errors is correctly specified.\n"
     ]
    }
   ],
   "source": [
    "X = postmate[\"pick_up_time\"] \n",
    "#pick_up_time = time difference betweeen Jumpmen arrived/left at pick up place \n",
    "X = sm.add_constant(X)\n",
    "y = postmate[\"delivery_time\"] \n",
    "#delivery_time = time difference between delivery started and Jumpmen arrived at drop off\n",
    "\n",
    "model = sm.OLS(y, X)\n",
    "results = model.fit()\n",
    "print(results.summary())"
   ]
  },
  {
   "cell_type": "code",
   "execution_count": null,
   "metadata": {},
   "outputs": [],
   "source": [
    "postmate['delivery time']=postmate['delivery time'].astype(np.int64)\n",
    "postmate['pick up time']=postmate['pick up time'].astype(np.int64)\n"
   ]
  },
  {
   "cell_type": "code",
   "execution_count": 93,
   "metadata": {},
   "outputs": [
    {
     "name": "stdout",
     "output_type": "stream",
     "text": [
      "                            OLS Regression Results                            \n",
      "==============================================================================\n",
      "Dep. Variable:          delivery_time   R-squared:                       0.000\n",
      "Model:                            OLS   Adj. R-squared:                 -0.000\n",
      "Method:                 Least Squares   F-statistic:                    0.5098\n",
      "Date:                Sun, 03 Mar 2019   Prob (F-statistic):              0.475\n",
      "Time:                        21:54:37   Log-Likelihood:                -19188.\n",
      "No. Observations:                4363   AIC:                         3.838e+04\n",
      "Df Residuals:                    4361   BIC:                         3.839e+04\n",
      "Df Model:                           1                                         \n",
      "Covariance Type:            nonrobust                                         \n",
      "=================================================================================\n",
      "                    coef    std err          t      P>|t|      [0.025      0.975]\n",
      "---------------------------------------------------------------------------------\n",
      "const            46.6052      0.556     83.826      0.000      45.515      47.695\n",
      "item_quantity    -0.2692      0.377     -0.714      0.475      -1.009       0.470\n",
      "==============================================================================\n",
      "Omnibus:                     2525.564   Durbin-Watson:                   2.037\n",
      "Prob(Omnibus):                  0.000   Jarque-Bera (JB):            54626.159\n",
      "Skew:                           2.330   Prob(JB):                         0.00\n",
      "Kurtosis:                      19.697   Cond. No.                         3.75\n",
      "==============================================================================\n",
      "\n",
      "Warnings:\n",
      "[1] Standard Errors assume that the covariance matrix of the errors is correctly specified.\n"
     ]
    }
   ],
   "source": [
    "X = postmate[\"item_quantity\"]\n",
    "X = sm.add_constant(X)\n",
    "y = postmate[\"delivery_time\"]\n",
    "\n",
    "model = sm.OLS(y, X)\n",
    "results = model.fit()\n",
    "print(results.summary())"
   ]
  },
  {
   "cell_type": "code",
   "execution_count": null,
   "metadata": {},
   "outputs": [],
   "source": []
  }
 ],
 "metadata": {
  "kernelspec": {
   "display_name": "Python 3",
   "language": "python",
   "name": "python3"
  },
  "language_info": {
   "codemirror_mode": {
    "name": "ipython",
    "version": 3
   },
   "file_extension": ".py",
   "mimetype": "text/x-python",
   "name": "python",
   "nbconvert_exporter": "python",
   "pygments_lexer": "ipython3",
   "version": "3.6.5"
  }
 },
 "nbformat": 4,
 "nbformat_minor": 2
}
